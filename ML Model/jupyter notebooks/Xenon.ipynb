{
 "cells": [
  {
   "cell_type": "code",
   "execution_count": 43,
   "metadata": {},
   "outputs": [],
   "source": [
    "import pandas as pd\n",
    "import numpy as np\n",
    "from sklearn.metrics.pairwise import cosine_similarity\n",
    "from sklearn.preprocessing import StandardScaler"
   ]
  },
  {
   "cell_type": "code",
   "execution_count": 44,
   "metadata": {},
   "outputs": [],
   "source": [
    "dataset = pd.read_csv('modified_Housing_Data.csv')\n",
    "\n",
    "from sklearn.preprocessing import LabelEncoder\n",
    "le = LabelEncoder()\n",
    "column_name = dataset.columns[10]\n",
    "dataset[column_name] = le.fit_transform(dataset[column_name])\n"
   ]
  },
  {
   "cell_type": "code",
   "execution_count": 45,
   "metadata": {},
   "outputs": [],
   "source": [
    "column_with_inf = 'Land-to-building Ratio'\n",
    "\n",
    "dataset[column_with_inf].replace([np.inf, -np.inf], np.nan, inplace=True)\n",
    "\n",
    "dataset.dropna(subset=[column_with_inf], inplace=True)\n",
    "\n",
    "dataset.reset_index(drop=True, inplace=True)"
   ]
  },
  {
   "cell_type": "code",
   "execution_count": 46,
   "metadata": {},
   "outputs": [],
   "source": [
    "scaler = StandardScaler()\n",
    "dataset_scaled = scaler.fit_transform(dataset.select_dtypes(include=[np.number]))\n"
   ]
  },
  {
   "cell_type": "code",
   "execution_count": 47,
   "metadata": {},
   "outputs": [],
   "source": [
    "similarity_matrix = cosine_similarity(dataset_scaled)"
   ]
  },
  {
   "cell_type": "code",
   "execution_count": 48,
   "metadata": {},
   "outputs": [],
   "source": [
    "# Function to Recommend Similar Properties\n",
    "def recommend_properties(property_index, num_recommendations=3):\n",
    "    # Get the similarity scores for the given property\n",
    "    similar_properties = list(enumerate(similarity_matrix[property_index]))\n",
    "    \n",
    "    # Sort based on similarity score in descending order\n",
    "    similar_properties = sorted(similar_properties, key=lambda x: x[1], reverse=True)\n",
    "    \n",
    "    # Get the indices of the top recommendations, excluding the current property\n",
    "    recommended_indices = [i[0] for i in similar_properties if i[0] != property_index][:num_recommendations]\n",
    "    \n",
    "    return dataset.iloc[recommended_indices]"
   ]
  },
  {
   "cell_type": "code",
   "execution_count": 50,
   "metadata": {},
   "outputs": [
    {
     "name": "stdout",
     "output_type": "stream",
     "text": [
      "Recommended Properties:\n",
      "      Rooms  Car  Regionlabel  Suburb_Target_Price  Council_Area_Encoded  \\\n",
      "1176      3  1.0            2         1.213414e+06                  29.0   \n",
      "1193      3  0.0            2         8.769540e+05                  21.0   \n",
      "2425      2  0.0            2         1.050187e+06                  29.0   \n",
      "2404      3  1.0            2         1.050187e+06                  29.0   \n",
      "4155      2  0.0            2         9.126412e+05                  29.0   \n",
      "\n",
      "      Type_Encoded  Method_Encoded  Bedroom-to-bathroom Ratio  \\\n",
      "1176           0.0             3.0                        1.5   \n",
      "1193           0.0             4.0                        1.5   \n",
      "2425           0.0             3.0                        2.0   \n",
      "2404           0.0             4.0                        1.5   \n",
      "4155           0.0             3.0                        2.0   \n",
      "\n",
      "      Land-to-building Ratio  Age of Building  Distance_Category  \\\n",
      "1176                1.057692            134.0                  2   \n",
      "1193                0.837989            124.0                  2   \n",
      "2425                0.512821            124.0                  2   \n",
      "2404                0.580153            124.0                  2   \n",
      "4155                0.582781            124.0                  2   \n",
      "\n",
      "      Age of Building Log  \n",
      "1176             4.897840  \n",
      "1193             4.820282  \n",
      "2425             4.820282  \n",
      "2404             4.820282  \n",
      "4155             4.820282  \n"
     ]
    }
   ],
   "source": [
    "recommended_properties = recommend_properties(property_index= 1, num_recommendations=5)\n",
    "print(\"Recommended Properties:\")\n",
    "print(recommended_properties)"
   ]
  }
 ],
 "metadata": {
  "kernelspec": {
   "display_name": "Python 3",
   "language": "python",
   "name": "python3"
  },
  "language_info": {
   "codemirror_mode": {
    "name": "ipython",
    "version": 3
   },
   "file_extension": ".py",
   "mimetype": "text/x-python",
   "name": "python",
   "nbconvert_exporter": "python",
   "pygments_lexer": "ipython3",
   "version": "3.10.8"
  }
 },
 "nbformat": 4,
 "nbformat_minor": 2
}
